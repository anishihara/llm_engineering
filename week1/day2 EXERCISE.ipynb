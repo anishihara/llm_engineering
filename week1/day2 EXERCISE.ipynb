{
 "cells": [
  {
   "cell_type": "markdown",
   "id": "d15d8294-3328-4e07-ad16-8a03e9bbfdb9",
   "metadata": {},
   "source": [
    "# Welcome to your first assignment!\n",
    "\n",
    "Instructions are below. Please give this a try, and look in the solutions folder if you get stuck (or feel free to ask me!)"
   ]
  },
  {
   "cell_type": "markdown",
   "id": "ada885d9-4d42-4d9b-97f0-74fbbbfe93a9",
   "metadata": {},
   "source": [
    "<table style=\"margin: 0; text-align: left;\">\n",
    "    <tr>\n",
    "        <td style=\"width: 150px; height: 150px; vertical-align: middle;\">\n",
    "            <img src=\"../resources.jpg\" width=\"150\" height=\"150\" style=\"display: block;\" />\n",
    "        </td>\n",
    "        <td>\n",
    "            <h2 style=\"color:#f71;\">Just before we get to the assignment --</h2>\n",
    "            <span style=\"color:#f71;\">I thought I'd take a second to point you at this page of useful resources for the course. This includes links to all the slides.<br/>\n",
    "            <a href=\"https://edwarddonner.com/2024/11/13/llm-engineering-resources/\">https://edwarddonner.com/2024/11/13/llm-engineering-resources/</a><br/>\n",
    "            Please keep this bookmarked, and I'll continue to add more useful links there over time.\n",
    "            </span>\n",
    "        </td>\n",
    "    </tr>\n",
    "</table>"
   ]
  },
  {
   "cell_type": "markdown",
   "id": "6e9fa1fc-eac5-4d1d-9be4-541b3f2b3458",
   "metadata": {},
   "source": [
    "# HOMEWORK EXERCISE ASSIGNMENT\n",
    "\n",
    "Upgrade the day 1 project to summarize a webpage to use an Open Source model running locally via Ollama rather than OpenAI\n",
    "\n",
    "You'll be able to use this technique for all subsequent projects if you'd prefer not to use paid APIs.\n",
    "\n",
    "**Benefits:**\n",
    "1. No API charges - open-source\n",
    "2. Data doesn't leave your box\n",
    "\n",
    "**Disadvantages:**\n",
    "1. Significantly less power than Frontier Model\n",
    "\n",
    "## Recap on installation of Ollama\n",
    "\n",
    "Simply visit [ollama.com](https://ollama.com) and install!\n",
    "\n",
    "Once complete, the ollama server should already be running locally.  \n",
    "If you visit:  \n",
    "[http://localhost:11434/](http://localhost:11434/)\n",
    "\n",
    "You should see the message `Ollama is running`.  \n",
    "\n",
    "If not, bring up a new Terminal (Mac) or Powershell (Windows) and enter `ollama serve`  \n",
    "And in another Terminal (Mac) or Powershell (Windows), enter `ollama pull llama3.2`  \n",
    "Then try [http://localhost:11434/](http://localhost:11434/) again.\n",
    "\n",
    "If Ollama is slow on your machine, try using `llama3.2:1b` as an alternative. Run `ollama pull llama3.2:1b` from a Terminal or Powershell, and change the code below from `MODEL = \"llama3.2\"` to `MODEL = \"llama3.2:1b\"`"
   ]
  },
  {
   "cell_type": "code",
   "execution_count": 14,
   "id": "4e2a9393-7767-488e-a8bf-27c12dca35bd",
   "metadata": {},
   "outputs": [],
   "source": [
    "# imports\n",
    "\n",
    "import requests\n",
    "from bs4 import BeautifulSoup\n",
    "from IPython.display import Markdown, display"
   ]
  },
  {
   "cell_type": "code",
   "execution_count": 27,
   "id": "29ddd15d-a3c5-4f4e-a678-873f56162724",
   "metadata": {},
   "outputs": [],
   "source": [
    "# Constants\n",
    "\n",
    "OLLAMA_API_HOST = \"http://192.168.0.247:11434\"\n",
    "OLLAMA_API = OLLAMA_API_HOST + \"/api/chat\"\n",
    "HEADERS = {\"Content-Type\": \"application/json\"}\n",
    "MODEL = \"llama3.2\""
   ]
  },
  {
   "cell_type": "code",
   "execution_count": 21,
   "id": "dac0a679-599c-441f-9bf2-ddc73d35b940",
   "metadata": {},
   "outputs": [],
   "source": [
    "# Create a messages list using the same format that we used for OpenAI\n",
    "\n",
    "messages = [\n",
    "    {\"role\": \"user\", \"content\": \"Describe some of the business applications of Generative AI\"}\n",
    "]"
   ]
  },
  {
   "cell_type": "code",
   "execution_count": 22,
   "id": "7bb9c624-14f0-4945-a719-8ddb64f66f47",
   "metadata": {},
   "outputs": [],
   "source": [
    "payload = {\n",
    "        \"model\": MODEL,\n",
    "        \"messages\": messages,\n",
    "        \"stream\": False\n",
    "    }"
   ]
  },
  {
   "cell_type": "code",
   "execution_count": 23,
   "id": "479ff514-e8bd-4985-a572-2ea28bb4fa40",
   "metadata": {},
   "outputs": [
    {
     "name": "stdout",
     "output_type": "stream",
     "text": [
      "zsh:1: command not found: ollama\n"
     ]
    }
   ],
   "source": [
    "# Let's just make sure the model is loaded\n",
    "\n",
    "!ollama pull llama3.2"
   ]
  },
  {
   "cell_type": "code",
   "execution_count": 24,
   "id": "42b9f644-522d-4e05-a691-56e7658c0ea9",
   "metadata": {},
   "outputs": [
    {
     "name": "stdout",
     "output_type": "stream",
     "text": [
      "Generative AI has numerous business applications across various industries. Here are some examples:\n",
      "\n",
      "1. **Content Creation**: Generative AI can be used to generate high-quality content such as articles, social media posts, product descriptions, and more. This can save time and resources for content creators and help businesses maintain a consistent brand voice.\n",
      "2. **Product Design**: Generative AI can be used to design new products, such as furniture, electronics, and fashion items. This can help businesses reduce design costs and improve the speed of product development.\n",
      "3. **Marketing Automation**: Generative AI can be used to personalize marketing messages and offers for customers. For example, an AI-powered chatbot can generate personalized product recommendations based on customer behavior and preferences.\n",
      "4. **Customer Service**: Generative AI can be used to power chatbots that can respond to common customer inquiries and provide basic support. This can help businesses reduce the workload of human customer support agents and improve response times.\n",
      "5. **Data Analysis**: Generative AI can be used to analyze large datasets and identify patterns and trends that may not be visible to human analysts. This can help businesses make data-driven decisions and gain a competitive advantage.\n",
      "6. **Predictive Maintenance**: Generative AI can be used to predict when maintenance is needed for equipment or machinery, reducing downtime and improving overall efficiency.\n",
      "7. **Personalized Recommendations**: Generative AI can be used to generate personalized product recommendations based on customer behavior and preferences. For example, an e-commerce platform can use AI-powered recommendations to suggest products to customers based on their browsing history and purchase behavior.\n",
      "8. **Image and Video Generation**: Generative AI can be used to generate high-quality images and videos that can be used for marketing purposes, such as product demos or explainer videos.\n",
      "9. **Chatbots and Virtual Assistants**: Generative AI can be used to power chatbots and virtual assistants that can understand natural language and respond accordingly.\n",
      "10. **Intellectual Property Protection**: Generative AI can be used to generate new ideas and concepts for businesses, reducing the risk of intellectual property theft and improving innovation.\n",
      "\n",
      "Some specific business applications of Generative AI include:\n",
      "\n",
      "* **Sales Enablement**: Using generative AI to create personalized sales content, such as email templates and sales scripts.\n",
      "* **Customer Experience**: Using generative AI to power chatbots and virtual assistants that can provide 24/7 customer support.\n",
      "* **Marketing Automation**: Using generative AI to personalize marketing messages and offers for customers.\n",
      "* **Product Development**: Using generative AI to design new products, such as furniture or electronics.\n",
      "* **Supply Chain Optimization**: Using generative AI to optimize supply chain operations, such as predicting demand and managing inventory.\n",
      "\n",
      "These are just a few examples of the many business applications of Generative AI. As the technology continues to evolve, we can expect to see even more innovative uses in various industries.\n"
     ]
    }
   ],
   "source": [
    "# If this doesn't work for any reason, try the 2 versions in the following cells\n",
    "# And double check the instructions in the 'Recap on installation of Ollama' at the top of this lab\n",
    "# And if none of that works - contact me!\n",
    "\n",
    "response = requests.post(OLLAMA_API, json=payload, headers=HEADERS)\n",
    "print(response.json()['message']['content'])"
   ]
  },
  {
   "cell_type": "markdown",
   "id": "6a021f13-d6a1-4b96-8e18-4eae49d876fe",
   "metadata": {},
   "source": [
    "# Introducing the ollama package\n",
    "\n",
    "And now we'll do the same thing, but using the elegant ollama python package instead of a direct HTTP call.\n",
    "\n",
    "Under the hood, it's making the same call as above to the ollama server running at localhost:11434"
   ]
  },
  {
   "cell_type": "code",
   "execution_count": 28,
   "id": "7745b9c4-57dc-4867-9180-61fa5db55eb8",
   "metadata": {},
   "outputs": [
    {
     "name": "stdout",
     "output_type": "stream",
     "text": [
      "Generative AI has numerous business applications across various industries, including:\n",
      "\n",
      "1. **Content Creation**: Generative AI can generate high-quality content such as articles, social media posts, and product descriptions, saving time and resources for businesses.\n",
      "2. **Marketing Automation**: AI-powered tools can create personalized marketing campaigns, product recommendations, and lead generation strategies based on customer data and behavior.\n",
      "3. **Product Design**: Generative AI can help design new products, such as furniture, fashion items, or electronics, by generating 3D models, prototypes, and concept art.\n",
      "4. **Image and Video Editing**: AI-powered tools can automate image and video editing tasks, such as removing backgrounds, applying filters, and creating special effects.\n",
      "5. **Customer Service Chatbots**: Generative AI can power chatbots that respond to customer inquiries, provide support, and resolve issues in a personalized manner.\n",
      "6. **Predictive Analytics**: AI algorithms can analyze large datasets and generate predictions about future trends, sales, and market performance, helping businesses make data-driven decisions.\n",
      "7. **Supply Chain Optimization**: Generative AI can optimize supply chain operations by predicting demand, identifying bottlenecks, and recommending logistics improvements.\n",
      "8. **Financial Modeling**: AI-powered tools can create detailed financial models, forecast revenue, and identify potential risks and opportunities for businesses.\n",
      "9. **Education and Training**: Generative AI can create personalized learning experiences, generate educational content, and adapt to individual students' needs.\n",
      "10. **Creative Writing**: AI-powered tools can assist writers with ideas, suggestions, and even complete articles, helping them stay productive and focused.\n",
      "\n",
      "Some specific business applications of Generative AI include:\n",
      "\n",
      "* **Product Design:** IKEA uses Generative AI to design new furniture products that are both aesthetically pleasing and functional.\n",
      "* **Marketing Automation:** Salesforce uses Generative AI to personalize customer experiences, create targeted marketing campaigns, and predict sales opportunities.\n",
      "* **Image Editing:** Adobe uses Generative AI to automate image editing tasks, such as removing backgrounds and applying filters.\n",
      "* **Customer Service Chatbots:** Many companies, including Amazon and Walmart, use Generative AI-powered chatbots to provide 24/7 customer support.\n",
      "\n",
      "These are just a few examples of the many business applications of Generative AI. As the technology continues to evolve, we can expect to see even more innovative uses in various industries.\n"
     ]
    }
   ],
   "source": [
    "from ollama import Client\n",
    "client = Client(\n",
    "  host=OLLAMA_API_HOST\n",
    ")\n",
    "\n",
    "response = client.chat(model=MODEL, messages=messages)\n",
    "print(response['message']['content'])"
   ]
  },
  {
   "cell_type": "markdown",
   "id": "a4704e10-f5fb-4c15-a935-f046c06fb13d",
   "metadata": {},
   "source": [
    "## Alternative approach - using OpenAI python library to connect to Ollama"
   ]
  },
  {
   "cell_type": "code",
   "execution_count": 29,
   "id": "23057e00-b6fc-4678-93a9-6b31cb704bff",
   "metadata": {},
   "outputs": [
    {
     "name": "stdout",
     "output_type": "stream",
     "text": [
      "Generative AI has numerous business applications across various industries. Here are some examples:\n",
      "\n",
      "1. **Content Generation**: Generative AI can generate high-quality content, such as:\n",
      " * Articles and blog posts\n",
      " * Social media posts and ads\n",
      " * Product descriptions and reviews\n",
      " * Marketing materials (e.g., videos, infographics)\n",
      "2. **Virtual Assistants**: Generative AI-powered virtual assistants can:\n",
      " * Answer customer inquiries\n",
      " * Provide product recommendations\n",
      " * Schedule appointments and meetings\n",
      "3. **Customer Service Chatbots**: Generative AI-powered chatbots can:\n",
      " * Respond to common customer queries\n",
      " * Route complex issues to human representatives\n",
      " * Personalize customer experiences\n",
      "4. **Image and Video Editing**: Generative AI can generate new images and videos, such as:\n",
      " * Product images for e-commerce websites\n",
      " * Visual content (e.g., animations, motion graphics) for marketing campaigns\n",
      "5. **Document Generation**: Generative AI can generate templates, reports, and other documents, such as:\n",
      " * Business letters and proposals\n",
      " * Financial statements and reports\n",
      "6. **Music and Audio Creation**: Generative AI can:\n",
      " * Create original music tracks and compositions\n",
      " * Generate audio loops and sound effects for multimedia projects\n",
      "7. **Data Analysis and Visualization**: Generative AI can analyze and visualize large datasets, such as:\n",
      " * Identifying trends and patterns in data\n",
      " * Visualizing complex data structures (e.g., heat maps, network diagrams)\n",
      "8. **Predictive Modeling and Forecasting**: Generative AI can create predictive models and forecasts, such as:\n",
      " * Predicting customer behavior and purchasing patterns\n",
      " * Forecaster revenue and market trend predictions\n",
      "9. **Network Optimization**: Generative AI can optimize networks for better performance, efficiency, and scalability, such as:\n",
      " * Optimizing network routing and traffic flow\n",
      "10. **Security and Threat Detection**: Generative AI can analyze and identify potential security threats and vulnerabilities, such as:\n",
      " * Detecting malware and other suspicious activity\n",
      "11. **Design and Prototyping**: Generative AI can generate new design concepts and prototypes, such as:\n",
      " * Fashion and product design\n",
      "* Architectural visualization\n"
     ]
    }
   ],
   "source": [
    "# There's actually an alternative approach that some people might prefer\n",
    "# You can use the OpenAI client python library to call Ollama:\n",
    "\n",
    "from openai import OpenAI\n",
    "ollama_via_openai = OpenAI(base_url=OLLAMA_API_HOST + '/v1', api_key='ollama')\n",
    "\n",
    "response = ollama_via_openai.chat.completions.create(\n",
    "    model=MODEL,\n",
    "    messages=messages\n",
    ")\n",
    "\n",
    "print(response.choices[0].message.content)"
   ]
  },
  {
   "cell_type": "markdown",
   "id": "9f9e22da-b891-41f6-9ac9-bd0c0a5f4f44",
   "metadata": {},
   "source": [
    "## Are you confused about why that works?\n",
    "\n",
    "It seems strange, right? We just used OpenAI code to call Ollama?? What's going on?!\n",
    "\n",
    "Here's the scoop:\n",
    "\n",
    "The python class `OpenAI` is simply code written by OpenAI engineers that makes calls over the internet to an endpoint.  \n",
    "\n",
    "When you call `openai.chat.completions.create()`, this python code just makes a web request to the following url: \"https://api.openai.com/v1/chat/completions\"\n",
    "\n",
    "Code like this is known as a \"client library\" - it's just wrapper code that runs on your machine to make web requests. The actual power of GPT is running on OpenAI's cloud behind this API, not on your computer!\n",
    "\n",
    "OpenAI was so popular, that lots of other AI providers provided identical web endpoints, so you could use the same approach.\n",
    "\n",
    "So Ollama has an endpoint running on your local box at http://localhost:11434/v1/chat/completions  \n",
    "And in week 2 we'll discover that lots of other providers do this too, including Gemini and DeepSeek.\n",
    "\n",
    "And then the team at OpenAI had a great idea: they can extend their client library so you can specify a different 'base url', and use their library to call any compatible API.\n",
    "\n",
    "That's it!\n",
    "\n",
    "So when you say: `ollama_via_openai = OpenAI(base_url='http://localhost:11434/v1', api_key='ollama')`  \n",
    "Then this will make the same endpoint calls, but to Ollama instead of OpenAI."
   ]
  },
  {
   "cell_type": "markdown",
   "id": "bc7d1de3-e2ac-46ff-a302-3b4ba38c4c90",
   "metadata": {},
   "source": [
    "## Also trying the amazing reasoning model DeepSeek\n",
    "\n",
    "Here we use the version of DeepSeek-reasoner that's been distilled to 1.5B.  \n",
    "This is actually a 1.5B variant of Qwen that has been fine-tuned using synethic data generated by Deepseek R1.\n",
    "\n",
    "Other sizes of DeepSeek are [here](https://ollama.com/library/deepseek-r1) all the way up to the full 671B parameter version, which would use up 404GB of your drive and is far too large for most!"
   ]
  },
  {
   "cell_type": "code",
   "execution_count": null,
   "id": "cf9eb44e-fe5b-47aa-b719-0bb63669ab3d",
   "metadata": {},
   "outputs": [],
   "source": [
    "!ollama pull deepseek-r1:1.5b"
   ]
  },
  {
   "cell_type": "code",
   "execution_count": 30,
   "id": "1d3d554b-e00d-4c08-9300-45e073950a76",
   "metadata": {},
   "outputs": [
    {
     "name": "stdout",
     "output_type": "stream",
     "text": [
      "<think>\n",
      "Okay, I need to understand the definitions of several key terms related to Large Language Models (LLMs). The user asked for definitions of \"neural network,\" \"attention,\" and the \"transformer.\" Let's take each one step by step.\n",
      "\n",
      "Starting with Neural Networks: I remember that neural networks are a type of machine learning model. They're composed of layers of interconnected nodes, or neurons, which process information. Each neuron receives input from other neurons, processes it using an activation function to compute an output value, and passes the result on to the next layer. The key point is how these connections learn through training.\n",
      "\n",
      "Next is attention. From what I know, attention allows models to focus on specific parts of the text or data when making a prediction. It's about assigning weights or probabilities to different positions in the input sequence. This helps the model attend to more relevant information for generating responses effectively.\n",
      "\n",
      "Now, the Transformer itself. Transformers are a type of neural network architecture introduced by Vaswani et al. I recall that they have a unique structure with self-attention mechanisms within each layer, as opposed to the sequential processing done in recurrent networks like LSTMs or GRUs. Each model instance consists of multiple layers, and at each step within these layers, attention is computed using scaled dot product attention.\n",
      "\n",
      "Putting it all together, neural networks are the general class of models composed of interconnected layers with activation functions. Attention is a feature that helps models focus on important parts of their input by assigning weights to them. The transformer architecture uses self-attention internally in each layer and processes inputs sequentially without relying on previous steps.\n",
      "</think>\n",
      "\n",
      "**Definitions:**\n",
      "\n",
      "1. **Neural Network:** A neural network is a computational system designed to recognize patterns, typically within data, by processing input through layers of weighted connections (or neurons) that use non-linear activation functions to compute output values.\n",
      "\n",
      "2. **Attention:** Attention allows models to focus on specific elements of their input during computation, enabling them to pay attention to relevant data points, which is crucial for effective text generation and other tasks.\n",
      "\n",
      "3. **Transformer:** A Transformer model incorporates self-attention mechanisms within each layer, allowing it to process inputs in a sequence without relying on previous layers, distinct from the sequential processing used by RNN-based models like Long Short-Term Memory (LSTMs) or Gated Recurrent Neural Networks (GRUs). This design enhances its ability to process long-range dependencies.\n",
      "\n",
      "**Summary:**\n",
      "\n",
      "- Neural networks are neural network architectures composed of interconnected layers with activation functions.\n",
      "- Attention facilitates focusing on relevant parts of input data by assigning weights.\n",
      "- The Transformer architecture uses self-attention within each layer and processes inputs sequentially without prior contextual dependence.\n"
     ]
    }
   ],
   "source": [
    "# This may take a few minutes to run! You should then see a fascinating \"thinking\" trace inside <think> tags, followed by some decent definitions\n",
    "\n",
    "response = ollama_via_openai.chat.completions.create(\n",
    "    model=\"deepseek-r1:1.5b\",\n",
    "    messages=[{\"role\": \"user\", \"content\": \"Please give definitions of some core concepts behind LLMs: a neural network, attention and the transformer\"}]\n",
    ")\n",
    "\n",
    "print(response.choices[0].message.content)"
   ]
  },
  {
   "cell_type": "markdown",
   "id": "1622d9bb-5c68-4d4e-9ca4-b492c751f898",
   "metadata": {},
   "source": [
    "# NOW the exercise for you\n",
    "\n",
    "Take the code from day1 and incorporate it here, to build a website summarizer that uses Llama 3.2 running locally instead of OpenAI; use either of the above approaches."
   ]
  },
  {
   "cell_type": "code",
   "execution_count": 44,
   "id": "6de38216-6d1c-48c4-877b-86d403f4e0f8",
   "metadata": {},
   "outputs": [],
   "source": [
    "# imports\n",
    "\n",
    "import os\n",
    "import requests\n",
    "from dotenv import load_dotenv\n",
    "from bs4 import BeautifulSoup\n",
    "from IPython.display import Markdown, display\n",
    "from openai import OpenAI\n",
    "\n",
    "MODEL = \"deepseek-r1:1.5b\""
   ]
  },
  {
   "cell_type": "code",
   "execution_count": 45,
   "id": "271d2f7b",
   "metadata": {},
   "outputs": [],
   "source": [
    "from openai import OpenAI\n",
    "ollama_via_openai = OpenAI(base_url=OLLAMA_API_HOST + '/v1', api_key='ollama')"
   ]
  },
  {
   "cell_type": "code",
   "execution_count": 46,
   "id": "63215476",
   "metadata": {},
   "outputs": [],
   "source": [
    "# A class to represent a Webpage\n",
    "# If you're not familiar with Classes, check out the \"Intermediate Python\" notebook\n",
    "\n",
    "# Some websites need you to use proper headers when fetching them:\n",
    "headers = {\n",
    " \"User-Agent\": \"Mozilla/5.0 (Windows NT 10.0; Win64; x64) AppleWebKit/537.36 (KHTML, like Gecko) Chrome/117.0.0.0 Safari/537.36\"\n",
    "}\n",
    "\n",
    "class Website:\n",
    "\n",
    "    def __init__(self, url):\n",
    "        \"\"\"\n",
    "        Create this Website object from the given url using the BeautifulSoup library\n",
    "        \"\"\"\n",
    "        self.url = url\n",
    "        response = requests.get(url, headers=headers)\n",
    "        soup = BeautifulSoup(response.content, 'html.parser')\n",
    "        self.title = soup.title.string if soup.title else \"No title found\"\n",
    "        for irrelevant in soup.body([\"script\", \"style\", \"img\", \"input\"]):\n",
    "            irrelevant.decompose()\n",
    "        self.text = soup.body.get_text(separator=\"\\n\", strip=True)"
   ]
  },
  {
   "cell_type": "code",
   "execution_count": 47,
   "id": "bef8ee25",
   "metadata": {},
   "outputs": [
    {
     "name": "stdout",
     "output_type": "stream",
     "text": [
      "Home - Edward Donner\n",
      "Home\n",
      "Connect Four\n",
      "Outsmart\n",
      "An arena that pits LLMs against each other in a battle of diplomacy and deviousness\n",
      "About\n",
      "Posts\n",
      "Well, hi there.\n",
      "I’m Ed. I like writing code and experimenting with LLMs, and hopefully you’re here because you do too. I also enjoy DJing (but I’m badly out of practice), amateur electronic music production (\n",
      "very\n",
      "amateur) and losing myself in\n",
      "Hacker News\n",
      ", nodding my head sagely to things I only half understand.\n",
      "I’m the co-founder and CTO of\n",
      "Nebula.io\n",
      ". We’re applying AI to a field where it can make a massive, positive impact: helping people discover their potential and pursue their reason for being. Recruiters use our product today to source, understand, engage and manage talent. I’m previously the founder and CEO of AI startup untapt,\n",
      "acquired in 2021\n",
      ".\n",
      "We work with groundbreaking, proprietary LLMs verticalized for talent, we’ve\n",
      "patented\n",
      "our matching model, and our award-winning platform has happy customers and tons of press coverage.\n",
      "Connect\n",
      "with me for more!\n",
      "May 28, 2025\n",
      "Connecting my courses – become an LLM expert and leader\n",
      "May 18, 2025\n",
      "2025 AI Executive Briefing\n",
      "April 21, 2025\n",
      "The Complete Agentic AI Engineering Course\n",
      "January 23, 2025\n",
      "LLM Workshop – Hands-on with Agents – resources\n",
      "Navigation\n",
      "Home\n",
      "Connect Four\n",
      "Outsmart\n",
      "An arena that pits LLMs against each other in a battle of diplomacy and deviousness\n",
      "About\n",
      "Posts\n",
      "Get in touch\n",
      "ed [at] edwarddonner [dot] com\n",
      "www.edwarddonner.com\n",
      "Follow me\n",
      "LinkedIn\n",
      "Twitter\n",
      "Facebook\n",
      "Subscribe to newsletter\n",
      "Type your email…\n",
      "Subscribe\n"
     ]
    }
   ],
   "source": [
    "\n",
    "ed = Website(\"https://edwarddonner.com\")\n",
    "print(ed.title)\n",
    "print(ed.text)"
   ]
  },
  {
   "cell_type": "markdown",
   "id": "b3a7197d",
   "metadata": {},
   "source": [
    "Define a system prompt"
   ]
  },
  {
   "cell_type": "code",
   "execution_count": 48,
   "id": "15eb0c2a",
   "metadata": {},
   "outputs": [],
   "source": [
    "# Define our system prompt - you can experiment with this later, changing the last sentence to 'Respond in markdown in Spanish.\"\n",
    "\n",
    "system_prompt = \"You are an assistant that analyzes the contents of a website \\\n",
    "and provides a short summary, ignoring text that might be navigation related. \\\n",
    "Respond in markdown.\""
   ]
  },
  {
   "cell_type": "markdown",
   "id": "ed73ba57",
   "metadata": {},
   "source": [
    "Create a function that writes a user prompt that asks summaries of websites"
   ]
  },
  {
   "cell_type": "code",
   "execution_count": 49,
   "id": "7e43a592",
   "metadata": {},
   "outputs": [],
   "source": [
    "def user_prompt_for(website):\n",
    "    user_prompt = f\"You are looking at a website titled {website.title}\"\n",
    "    user_prompt += \"\\nThe contents of this website is as follows; \\\n",
    "please provide a short summary of this website in markdown. \\\n",
    "If it includes news or announcements, then summarize these too.\\n\\n\"\n",
    "    user_prompt += website.text\n",
    "    return user_prompt"
   ]
  },
  {
   "cell_type": "code",
   "execution_count": 50,
   "id": "365e7b8c",
   "metadata": {},
   "outputs": [],
   "source": [
    "# See how this function creates exactly the format above\n",
    "\n",
    "def messages_for(website):\n",
    "    return [\n",
    "        {\"role\": \"system\", \"content\": system_prompt},\n",
    "        {\"role\": \"user\", \"content\": user_prompt_for(website)}\n",
    "    ]"
   ]
  },
  {
   "cell_type": "code",
   "execution_count": 51,
   "id": "7c687668",
   "metadata": {},
   "outputs": [],
   "source": [
    "# And now: call the OpenAI API. You will get very familiar with this!\n",
    "\n",
    "def summarize(url):\n",
    "    website = Website(url)\n",
    "    response = ollama_via_openai.chat.completions.create(\n",
    "        model = MODEL,\n",
    "        messages = messages_for(website)\n",
    "    )\n",
    "    return response.choices[0].message.content"
   ]
  },
  {
   "cell_type": "code",
   "execution_count": 52,
   "id": "d300c0e6",
   "metadata": {},
   "outputs": [],
   "source": [
    "# A function to display this nicely in the Jupyter output, using markdown\n",
    "\n",
    "def display_summary(url):\n",
    "    summary = summarize(url)\n",
    "    display(Markdown(summary))"
   ]
  },
  {
   "cell_type": "code",
   "execution_count": 53,
   "id": "34177e05",
   "metadata": {},
   "outputs": [
    {
     "data": {
      "text/markdown": [
       "<think>\n",
       "\n",
       "</think>\n",
       "\n",
       "The website `Home - Edward Donner` is a repository for posts, news, and updates related to an elite online LLM platform called `Nebula.io`. It provides information on how to connect with the LLM community through educational, executive, and training courses. The site also links to various about sections, including community forums, proprietary knowledge sharing, and press coverage of the platform's technology and impact. Subscriptions to this platform can be configured through its newsletter service."
      ],
      "text/plain": [
       "<IPython.core.display.Markdown object>"
      ]
     },
     "metadata": {},
     "output_type": "display_data"
    }
   ],
   "source": [
    "display_summary(\"https://edwarddonner.com\")\n"
   ]
  },
  {
   "cell_type": "markdown",
   "id": "59dd2329",
   "metadata": {},
   "source": []
  }
 ],
 "metadata": {
  "kernelspec": {
   "display_name": "llms",
   "language": "python",
   "name": "python3"
  },
  "language_info": {
   "codemirror_mode": {
    "name": "ipython",
    "version": 3
   },
   "file_extension": ".py",
   "mimetype": "text/x-python",
   "name": "python",
   "nbconvert_exporter": "python",
   "pygments_lexer": "ipython3",
   "version": "3.11.13"
  }
 },
 "nbformat": 4,
 "nbformat_minor": 5
}
